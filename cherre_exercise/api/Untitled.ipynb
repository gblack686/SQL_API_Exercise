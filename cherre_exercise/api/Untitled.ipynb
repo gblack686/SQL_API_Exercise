{
 "cells": [
  {
   "cell_type": "code",
   "execution_count": 12,
   "metadata": {},
   "outputs": [],
   "source": [
    "import sqlite3\n",
    "from sqlite3 import Error\n",
    "import os\n",
    "import pandas as pd\n",
    "import json\n",
    "from flask import jsonify\n",
    "def table_lengths():\n",
    "    cnx = sqlite3.connect('../data/testdb.db')\n",
    "    table_names = list(pd.read_sql_query(\"SELECT name FROM sqlite_master WHERE type = 'table'\", cnx)['name'])\n",
    "    table_names.remove('sqlite_sequence')\n",
    "    table_length_dict = {}\n",
    "    for name in table_names:\n",
    "        table_length = pd.read_sql_query(\"SELECT COUNT(*) AS 'table_length' FROM \"+str(name)+\"\", cnx)\n",
    "        table_length_dict[name] = json.loads(str(table_length.iloc[0,0]))\n",
    "    db_page_size = pd.read_sql_query(\"PRAGMA PAGE_SIZE\", cnx).iloc[0,0]\n",
    "    db_page_count = pd.read_sql_query(\"PRAGMA PAGE_COUNT\", cnx).iloc[0,0]\n",
    "    db_bytes = {\"Database size (bytes)\": json.loads(str(db_page_size * db_page_count))}\n",
    "    return (table_length_dict, db_bytes)"
   ]
  },
  {
   "cell_type": "code",
   "execution_count": 13,
   "metadata": {},
   "outputs": [
    {
     "data": {
      "text/plain": [
       "({'people': 30,\n",
       "  'sites': 100,\n",
       "  'visits': 306,\n",
       "  'frequent_browsers': 0,\n",
       "  'browser_frequency': 30},\n",
       " {'Database size (bytes)': 53248})"
      ]
     },
     "execution_count": 13,
     "metadata": {},
     "output_type": "execute_result"
    }
   ],
   "source": [
    "table_lengths()"
   ]
  },
  {
   "cell_type": "code",
   "execution_count": 10,
   "metadata": {},
   "outputs": [],
   "source": [
    "\n",
    "def table_info():\n",
    "    cnx = sqlite3.connect('../data/testdb.db')\n",
    "    table_names = list(pd.read_sql_query(\"SELECT name FROM sqlite_master WHERE type = 'table'\", cnx)['name'])\n",
    "    table_names.remove('sqlite_sequence')\n",
    "    table_info_dict = {}\n",
    "    for name in table_names:\n",
    "        table_column_info = pd.read_sql(\"PRAGMA table_info(\"+str(name)+\")\", cnx).to_json()\n",
    "        table_info_dict[name] = json.loads(table_column_info)\n",
    "    return table_info_dict\n"
   ]
  },
  {
   "cell_type": "code",
   "execution_count": 11,
   "metadata": {},
   "outputs": [
    {
     "data": {
      "text/plain": [
       "{'people': {'cid': {'0': 0, '1': 1, '2': 2},\n",
       "  'name': {'0': 'id', '1': 'first_name', '2': 'last_name'},\n",
       "  'type': {'0': 'integer', '1': 'varchar(50)', '2': 'varchar(50)'},\n",
       "  'notnull': {'0': 0, '1': 1, '2': 1},\n",
       "  'dflt_value': {'0': None, '1': None, '2': None},\n",
       "  'pk': {'0': 1, '1': 0, '2': 0}},\n",
       " 'sites': {'cid': {'0': 0, '1': 1},\n",
       "  'name': {'0': 'id', '1': 'url'},\n",
       "  'type': {'0': 'INTEGER', '1': 'varchar(255)'},\n",
       "  'notnull': {'0': 0, '1': 1},\n",
       "  'dflt_value': {'0': None, '1': None},\n",
       "  'pk': {'0': 1, '1': 0}},\n",
       " 'visits': {'cid': {'0': 0, '1': 1, '2': 2},\n",
       "  'name': {'0': 'personId', '1': 'siteId', '2': 'time_visited'},\n",
       "  'type': {'0': 'int', '1': 'int', '2': 'datetime'},\n",
       "  'notnull': {'0': 0, '1': 1, '2': 0},\n",
       "  'dflt_value': {'0': None, '1': None, '2': None},\n",
       "  'pk': {'0': 0, '1': 0, '2': 0}},\n",
       " 'frequent_browsers': {'cid': {'0': 0, '1': 1},\n",
       "  'name': {'0': 'person_id', '1': 'num_sites_visited'},\n",
       "  'type': {'0': 'int', '1': 'int'},\n",
       "  'notnull': {'0': 1, '1': 1},\n",
       "  'dflt_value': {'0': None, '1': None},\n",
       "  'pk': {'0': 0, '1': 0}},\n",
       " 'browser_frequency': {'cid': {'0': 0, '1': 1, '2': 2, '3': 3, '4': 4},\n",
       "  'name': {'0': 'personId',\n",
       "   '1': 'num_sites_visited',\n",
       "   '2': 'first_name',\n",
       "   '3': 'last_name',\n",
       "   '4': 'time_visited'},\n",
       "  'type': {'0': 'INT', '1': '', '2': 'TEXT', '3': 'TEXT', '4': 'NUM'},\n",
       "  'notnull': {'0': 0, '1': 0, '2': 0, '3': 0, '4': 0},\n",
       "  'dflt_value': {'0': None, '1': None, '2': None, '3': None, '4': None},\n",
       "  'pk': {'0': 0, '1': 0, '2': 0, '3': 0, '4': 0}}}"
      ]
     },
     "execution_count": 11,
     "metadata": {},
     "output_type": "execute_result"
    }
   ],
   "source": [
    "table_info()"
   ]
  },
  {
   "cell_type": "code",
   "execution_count": null,
   "metadata": {},
   "outputs": [],
   "source": []
  }
 ],
 "metadata": {
  "kernelspec": {
   "display_name": "Python 3",
   "language": "python",
   "name": "python3"
  },
  "language_info": {
   "codemirror_mode": {
    "name": "ipython",
    "version": 3
   },
   "file_extension": ".py",
   "mimetype": "text/x-python",
   "name": "python",
   "nbconvert_exporter": "python",
   "pygments_lexer": "ipython3",
   "version": "3.6.6"
  }
 },
 "nbformat": 4,
 "nbformat_minor": 2
}
