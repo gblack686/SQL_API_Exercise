{
 "cells": [
  {
   "cell_type": "code",
   "execution_count": 84,
   "metadata": {},
   "outputs": [],
   "source": [
    "import numpy as np\n",
    "import pandas as pd\n",
    "import random as r"
   ]
  },
  {
   "cell_type": "code",
   "execution_count": 42,
   "metadata": {},
   "outputs": [
    {
     "data": {
      "text/plain": [
       "[2]"
      ]
     },
     "execution_count": 42,
     "metadata": {},
     "output_type": "execute_result"
    }
   ],
   "source": [
    "#1 How do you find the missing number in a given integer array of 1 to 100?\n",
    "a = list(range(0,10,1))\n",
    "a.pop(2)\n",
    "[x for x in list(range(0,10,1)) if x not in a]"
   ]
  },
  {
   "cell_type": "code",
   "execution_count": 79,
   "metadata": {},
   "outputs": [
    {
     "data": {
      "text/plain": [
       "[2]"
      ]
     },
     "execution_count": 79,
     "metadata": {},
     "output_type": "execute_result"
    }
   ],
   "source": [
    "#2 How do you find the duplicate number on a given integer array?\n",
    "a = list(range(0,10,1))\n",
    "a = [2] + a\n",
    "list(set([x for x in a if a.count(x) > 1]))"
   ]
  },
  {
   "cell_type": "code",
   "execution_count": 94,
   "metadata": {},
   "outputs": [],
   "source": [
    "#3 How do you find the largest and smallest number in an unsorted integer array?\n",
    "a = [r.randint(0,10) for x in range(0,10,1)]\n"
   ]
  },
  {
   "cell_type": "code",
   "execution_count": 50,
   "metadata": {},
   "outputs": [],
   "source": [
    "def visualization():\n",
    "    # import pandas as pd\n",
    "    # import bokeh\n",
    "    # from bokeh.embed import components\n",
    "    # from bokeh.plotting import figure\n",
    "    # from bokeh.resources import INLINE\n",
    "    # from bokeh.util.string import encode_utf8\n",
    "\n",
    "    # import sqlite3\n",
    "    # import pandas as pd\n",
    "    # cnx = sqlite3.connect('../data/testdb.db')\n",
    "\n",
    "    # df = pd.read_sql_query(\"SELECT * FROM browser_frequency\", cnx)\n",
    "\n",
    "    # fig = figure(plot_width=600, plot_height=600)\n",
    "    # fig.vbar(\n",
    "    #     x=df.last_name,\n",
    "    #     width=0.5,\n",
    "    #     bottom=0,\n",
    "    #     top=df.num_sites_visited,\n",
    "    #     color='navy'\n",
    "    # )\n",
    "\n",
    "    # # grab the static resources\n",
    "    # js_resources = INLINE.render_js()\n",
    "    # css_resources = INLINE.render_css()\n",
    "\n",
    "    # # render template\n",
    "    # script, div = components(fig)\n",
    "    # html = render_template(\n",
    "    #     'index.html',\n",
    "    #     plot_script=script,\n",
    "    #     plot_div=div,\n",
    "    #     js_resources=js_resources,\n",
    "    #     css_resources=css_resources,\n",
    "    # )\n",
    "    # return encode_utf8(html)\n",
    "    import bokeh\n",
    "    from bokeh.io import show, output_file\n",
    "    from bokeh.models import ColumnDataSource\n",
    "    from bokeh.palettes import Spectral6\n",
    "    from bokeh.plotting import figure\n",
    "    from bokeh.transform import factor_cmap\n",
    "    \n",
    "\n",
    "    import sqlite3\n",
    "    import pandas as pd\n",
    "    cnx = sqlite3.connect('testdb.db')\n",
    "\n",
    "    df = pd.read_sql_query(\"SELECT * FROM browser_frequency\", cnx)\n",
    "\n",
    "    output_file(\"bar_colormapped.html\")\n",
    "\n",
    "    source = ColumnDataSource(df)\n",
    "    p = figure(plot_width=600, plot_height=350, toolbar_location=None, title=\"Browser Frequency\")\n",
    "    p.vbar(x='last_name', top='num_sites_visited', width=20, source=source,\n",
    "        line_color='black')\n",
    "\n",
    "\n",
    "    show(p)\n"
   ]
  },
  {
   "cell_type": "code",
   "execution_count": 51,
   "metadata": {},
   "outputs": [],
   "source": [
    "visualization()"
   ]
  },
  {
   "cell_type": "code",
   "execution_count": 43,
   "metadata": {},
   "outputs": [
    {
     "data": {
      "text/html": [
       "<div>\n",
       "<style scoped>\n",
       "    .dataframe tbody tr th:only-of-type {\n",
       "        vertical-align: middle;\n",
       "    }\n",
       "\n",
       "    .dataframe tbody tr th {\n",
       "        vertical-align: top;\n",
       "    }\n",
       "\n",
       "    .dataframe thead th {\n",
       "        text-align: right;\n",
       "    }\n",
       "</style>\n",
       "<table border=\"1\" class=\"dataframe\">\n",
       "  <thead>\n",
       "    <tr style=\"text-align: right;\">\n",
       "      <th></th>\n",
       "      <th>personId</th>\n",
       "      <th>num_sites_visited</th>\n",
       "      <th>first_name</th>\n",
       "      <th>last_name</th>\n",
       "      <th>time_visited</th>\n",
       "    </tr>\n",
       "  </thead>\n",
       "  <tbody>\n",
       "    <tr>\n",
       "      <th>0</th>\n",
       "      <td>30</td>\n",
       "      <td>28</td>\n",
       "      <td>Alena</td>\n",
       "      <td>Jacobson</td>\n",
       "      <td>2006-08-02 23:43:58</td>\n",
       "    </tr>\n",
       "    <tr>\n",
       "      <th>1</th>\n",
       "      <td>6</td>\n",
       "      <td>18</td>\n",
       "      <td>Alvin</td>\n",
       "      <td>Bergey</td>\n",
       "      <td>2014-06-13 04:48:38</td>\n",
       "    </tr>\n",
       "    <tr>\n",
       "      <th>2</th>\n",
       "      <td>19</td>\n",
       "      <td>17</td>\n",
       "      <td>Alena</td>\n",
       "      <td>Jacobson</td>\n",
       "      <td>2000-04-08 08:24:02</td>\n",
       "    </tr>\n",
       "    <tr>\n",
       "      <th>3</th>\n",
       "      <td>3</td>\n",
       "      <td>16</td>\n",
       "      <td>Terri</td>\n",
       "      <td>Alli</td>\n",
       "      <td>2007-08-04 08:20:10</td>\n",
       "    </tr>\n",
       "    <tr>\n",
       "      <th>4</th>\n",
       "      <td>2</td>\n",
       "      <td>14</td>\n",
       "      <td>Annabelle</td>\n",
       "      <td>Guttierrez</td>\n",
       "      <td>2001-03-15 09:31:26</td>\n",
       "    </tr>\n",
       "  </tbody>\n",
       "</table>\n",
       "</div>"
      ],
      "text/plain": [
       "   personId  num_sites_visited first_name   last_name         time_visited\n",
       "0        30                 28      Alena    Jacobson  2006-08-02 23:43:58\n",
       "1         6                 18      Alvin      Bergey  2014-06-13 04:48:38\n",
       "2        19                 17      Alena    Jacobson  2000-04-08 08:24:02\n",
       "3         3                 16      Terri        Alli  2007-08-04 08:20:10\n",
       "4         2                 14  Annabelle  Guttierrez  2001-03-15 09:31:26"
      ]
     },
     "execution_count": 43,
     "metadata": {},
     "output_type": "execute_result"
    }
   ],
   "source": [
    "import sqlite3\n",
    "import pandas as pd\n",
    "cnx = sqlite3.connect('testdb.db')\n",
    "\n",
    "df = pd.read_sql_query(\"SELECT * FROM browser_frequency\", cnx)\n",
    "df.head()"
   ]
  },
  {
   "cell_type": "code",
   "execution_count": 59,
   "metadata": {},
   "outputs": [
    {
     "name": "stderr",
     "output_type": "stream",
     "text": [
      "c:\\users\\gblac\\anaconda3\\envs\\pythondata\\lib\\site-packages\\bokeh\\models\\plots.py:55: UserWarning: \n",
      "You are attemptings to set `plot.legend.orientation` on a plot that has zero legends added, this will have no effect.\n",
      "\n",
      "Before legend properties can be set, you must add a Legend explicitly, or call a glyph method with the 'legend' parameter set.\n",
      "\n",
      "  warnings.warn(_LEGEND_EMPTY_WARNING % attr)\n",
      "c:\\users\\gblac\\anaconda3\\envs\\pythondata\\lib\\site-packages\\bokeh\\models\\plots.py:55: UserWarning: \n",
      "You are attemptings to set `plot.legend.location` on a plot that has zero legends added, this will have no effect.\n",
      "\n",
      "Before legend properties can be set, you must add a Legend explicitly, or call a glyph method with the 'legend' parameter set.\n",
      "\n",
      "  warnings.warn(_LEGEND_EMPTY_WARNING % attr)\n"
     ]
    }
   ],
   "source": [
    "def viz():\n",
    "    from bokeh.io import show, output_file\n",
    "    from bokeh.models import ColumnDataSource\n",
    "    from bokeh.palettes import Spectral6\n",
    "    from bokeh.plotting import figure\n",
    "    from bokeh.transform import factor_cmap\n",
    "\n",
    "    output_file(\"bar_colormapped.html\")\n",
    "\n",
    "    import sqlite3\n",
    "    import pandas as pd\n",
    "    cnx = sqlite3.connect('testdb.db')\n",
    "\n",
    "    df = pd.read_sql_query(\"SELECT * FROM browser_frequency\", cnx)\n",
    "\n",
    "    output_file(\"bar_colormapped.html\")\n",
    "\n",
    "    source = ColumnDataSource(df)\n",
    "    p = figure(plot_width=600, plot_height=350, toolbar_location=None, title=\"Fruit Counts\")\n",
    "    p.vbar(x='last_name', top='num_sites_visited', width=0.9, source=source,\n",
    "           line_color='white')\n",
    "\n",
    "    p.xgrid.grid_line_color = None\n",
    "    p.y_range.start = 0\n",
    "    p.y_range.end = 9\n",
    "    p.legend.orientation = \"horizontal\"\n",
    "    p.legend.location = \"top_center\"\n",
    "\n",
    "    show(p)\n",
    "viz()"
   ]
  },
  {
   "cell_type": "code",
   "execution_count": 3,
   "metadata": {},
   "outputs": [
    {
     "ename": "ImportError",
     "evalue": "cannot import name 'instructions'",
     "output_type": "error",
     "traceback": [
      "\u001b[1;31m---------------------------------------------------------------------------\u001b[0m",
      "\u001b[1;31mImportError\u001b[0m                               Traceback (most recent call last)",
      "\u001b[1;32m<ipython-input-3-bb31031366ef>\u001b[0m in \u001b[0;36m<module>\u001b[1;34m\u001b[0m\n\u001b[1;32m----> 1\u001b[1;33m \u001b[1;32mfrom\u001b[0m \u001b[0mcherre_exercise\u001b[0m \u001b[1;32mimport\u001b[0m \u001b[0minstructions\u001b[0m\u001b[1;33m\u001b[0m\u001b[0m\n\u001b[0m",
      "\u001b[1;31mImportError\u001b[0m: cannot import name 'instructions'"
     ]
    }
   ],
   "source": [
    "from cherre_exercise import instructions"
   ]
  },
  {
   "cell_type": "code",
   "execution_count": null,
   "metadata": {},
   "outputs": [],
   "source": []
  }
 ],
 "metadata": {
  "kernelspec": {
   "display_name": "Python 3",
   "language": "python",
   "name": "python3"
  },
  "language_info": {
   "codemirror_mode": {
    "name": "ipython",
    "version": 3
   },
   "file_extension": ".py",
   "mimetype": "text/x-python",
   "name": "python",
   "nbconvert_exporter": "python",
   "pygments_lexer": "ipython3",
   "version": "3.6.6"
  }
 },
 "nbformat": 4,
 "nbformat_minor": 2
}
